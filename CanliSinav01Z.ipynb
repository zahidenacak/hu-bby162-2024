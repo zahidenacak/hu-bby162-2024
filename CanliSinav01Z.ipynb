{
  "nbformat": 4,
  "nbformat_minor": 0,
  "metadata": {
    "colab": {
      "provenance": [],
      "include_colab_link": true
    },
    "kernelspec": {
      "name": "python3",
      "display_name": "Python 3"
    },
    "language_info": {
      "name": "python"
    }
  },
  "cells": [
    {
      "cell_type": "markdown",
      "metadata": {
        "id": "view-in-github",
        "colab_type": "text"
      },
      "source": [
        "<a href=\"https://colab.research.google.com/github/zahidenacak/hu-bby162-2024/blob/main/CanliSinav01Z.ipynb\" target=\"_parent\"><img src=\"https://colab.research.google.com/assets/colab-badge.svg\" alt=\"Open In Colab\"/></a>"
      ]
    },
    {
      "cell_type": "markdown",
      "source": [
        "**Canlı Sınav 01'e hoşgeldiniz!**"
      ],
      "metadata": {
        "id": "ItmuxWgBbkC1"
      }
    },
    {
      "cell_type": "markdown",
      "source": [
        "Canlı sınav, bilgisayar laboratuvarında bilgisayar başında yapılan ve teslim edilen projeyi ifade etmektedir. Canlı sınavda yazmış olduğunuz kodlar sizin sorumluluğunuzdadır ve gerekirse hangi kodu neden yazdığınızı açık bir şekilde anlatabilmeniz gerekmektedir. Canlı sınav sırasında İnternet üzerindeki kaynaklar kullanılabilir ancak başka bir kişiden destek alınamaz.\n",
        "\n",
        "Canlı sınavın teslim şekli önceki proje çalışmasında olduğu gibidir. \"Canlı Sınav 01\" adlı Colab not defterinin bir kopyasını çıkarmalı, size ait olan bu kopya üzerinde soruları cevaplamalı, GitHub'daki ders deponuza size ait kopyayı yüklemeli ve not defterinin adresini metin alanına yazarak göndermelisiniz.\n",
        "\n",
        "Canlı sınavın doğru şekilde tamamlanması da sınavın önemli bir parçasıdır. Sınav için gönderdiğiniz adresi kontrol ediniz ve doğru dosyayı depoya yerleştirdiği bizden emin olunuz. Teslim sürecinde yapılan hatalar sınavdan 0 puan almanıza yol açabilir!\n",
        "\n",
        "Önemli Not: Soruları cecaplarken sadece şu ana kadar öğrendiğiniz kod yapılarını kullanmanız gerekmektedir!!!"
      ],
      "metadata": {
        "id": "KGjdjR5RbTgH"
      }
    },
    {
      "cell_type": "markdown",
      "source": [
        "**----- Sorular -----**"
      ],
      "metadata": {
        "id": "zBvdh4s8cOqM"
      }
    },
    {
      "cell_type": "markdown",
      "source": [
        "**Soru 1:** Bir giriş sisteminde kullanıcı adı olarak eposta ya da telefon numarası kullanılabilmektedir. Şifre ise tektir. Klavyeden doğru kullanıcı adı ve şifre girildiğinde ekrana \" Sisteme giriş yaptınız\" , yanlış kullanıcı adı girildiğinde \"kullanıcı adı hatalı\" , yanlış şifre girildiğinde \"şifre hatalı\" bilgisi yazdırılmalıdır. Kullanıcı adı hatalı ise şifre sorma adımına geçilmemelidir."
      ],
      "metadata": {
        "id": "ma0FVqgQiLBe"
      }
    },
    {
      "cell_type": "code",
      "source": [
        "#Soru 1 bu bölümde kodlanmalıdır\n",
        "eposta = \"a@a.net\"\n",
        "tel = \"532\"\n",
        "sifre = \"123\"\n",
        "\n",
        "# Kullanıcı adı, eposta ve telefon numarası tanımları\n",
        "dogru_kullanici_adi_eposta = \"a@a.net\"\n",
        "dogru_kullanici_adi_telefon = \"532\"\n",
        "dogru_sifre = \"123\"\n",
        "\n",
        "# Kullanıcıdan giriş bilgilerini alma\n",
        "kullanici_adi = input(\"Kullanıcı adı (eposta veya telefon numarası) giriniz: \")\n",
        "sifre = input(\"Şifre giriniz: \")\n",
        "\n",
        "# Kullanıcı adı ve şifrenin doğruluğunu kontrol etme\n",
        "if (kullanici_adi == dogru_kullanici_adi_eposta or kullanici_adi == dogru_kullanici_adi_telefon) and sifre == dogru_sifre:\n",
        "    print(\"Sisteme giriş yaptınız.\")\n",
        "elif kullanici_adi != dogru_kullanici_adi_eposta and kullanici_adi != dogru_kullanici_adi_telefon:\n",
        "    print(\"Kullanıcı adı hatalı.\")\n",
        "else:\n",
        "    print(\"Şifre hatalı.\")\n",
        "\n"
      ],
      "metadata": {
        "id": "Fj7wkLMcjp_7",
        "colab": {
          "base_uri": "https://localhost:8080/"
        },
        "outputId": "846b4249-a5e2-4b35-84cc-1ba892ba5971"
      },
      "execution_count": 12,
      "outputs": [
        {
          "output_type": "stream",
          "name": "stdout",
          "text": [
            "Kullanıcı adı (eposta veya telefon numarası) giriniz: a@a.net\n",
            "Şifre giriniz: 123\n",
            "Sisteme giriş yaptınız.\n"
          ]
        }
      ]
    },
    {
      "cell_type": "markdown",
      "source": [
        "**Soru 2:** Klavyeden girilen bir insan ismindeki harf sayısına göre ekrana bir cümle yazdırınız. Örneğin 4 harfli bir isim girildiğinde ekrana \"Dört dörtlük bir isim\", 6 harfli bir isim girildiğinde ekrana \"Altıncı hissin kuvvetli\" yazılabilmelidir. Klavyeden üçten az ya da yediden çok harfe sahip bir isim girildiğinde ise ekrana \"isminiz sisteme uygun değildir\" mesajı yazdırılmalıdır."
      ],
      "metadata": {
        "id": "uZDiXJARgK4o"
      }
    },
    {
      "cell_type": "code",
      "source": [
        "#Soru 2 bu bölümde kodlanmalıdır\n",
        "\n",
        "\n",
        "# Kullanıcıdan ismi alma\n",
        "isim = input(\"İsminizi giriniz: \")\n",
        "\n",
        "# İsmin uzunluğunu kontrol etme\n",
        "harf_sayisi = len(isim)\n",
        "\n",
        "# İsim uzunluğuna göre mesaj yazdırma\n",
        "if harf_sayisi == 3:\n",
        "    print(\"Üçüncü harika bir isim\")\n",
        "elif harf_sayisi == 4:\n",
        "    print(\"Dört dörtlük bir isim\")\n",
        "elif harf_sayisi == 5:\n",
        "    print(\"Beş parmağında beş marifet\")\n",
        "elif harf_sayisi == 6:\n",
        "    print(\"Altıncı hissin kuvvetli\")\n",
        "elif harf_sayisi == 7:\n",
        "    print(\"Yedinci kıta gibi\")\n",
        "else:\n",
        "    print(\"İsminiz sisteme uygun değildir\")\n"
      ],
      "metadata": {
        "id": "no7Zd1ZCh5U3",
        "colab": {
          "base_uri": "https://localhost:8080/"
        },
        "outputId": "db50d7ed-9192-45f9-ec9d-9cd14695fa8b"
      },
      "execution_count": 16,
      "outputs": [
        {
          "output_type": "stream",
          "name": "stdout",
          "text": [
            "İsminizi giriniz: su\n",
            "İsminiz sisteme uygun değildir\n"
          ]
        }
      ]
    },
    {
      "cell_type": "markdown",
      "source": [
        "**Soru 3:** 5 öğenin yer aldığı bir kelime tahmin oyunu oluşturun. Kelimeler bir liste içinde yer almalıdır. Klavyeden girilen kelime liste içinde yer alan kelimelerden biri ise ekrana \"bravo oyunu kazandınız\", aksi halde ise ekrana \"üzgünüm oyunu kaybettiniz\" mesajı gelmelidir."
      ],
      "metadata": {
        "id": "HnIqbjcCeNEV"
      }
    },
    {
      "cell_type": "code",
      "source": [
        "#Soru 3 bu bölümde kodlanmalıdır\n",
        "\n",
        "# Kelimeler listesi oluşturma\n",
        "kelimeler = [\"bilgisayar\", \"bilgi\", \"belge\", \"yönetim\", \"kodlama\"]\n",
        "\n",
        "# Kullanıcıdan kelimeyi alma\n",
        "tahmin = input(\"5 öğenin yer aldığı bir kelime tahmin edin: \")\n",
        "\n",
        "# Tahminin listeye dahil olup olmadığını kontrol etme\n",
        "if tahmin in kelimeler:\n",
        "    print(\"Bravo! Oyunu kazandınız.\")\n",
        "else:\n",
        "    print(\"Üzgünüm! Oyunu kaybettiniz.\")\n",
        "\n"
      ],
      "metadata": {
        "id": "SjzG5g3ffTyv",
        "colab": {
          "base_uri": "https://localhost:8080/"
        },
        "outputId": "07cd54ef-e4ce-4853-f23c-91f653bef0a6"
      },
      "execution_count": 18,
      "outputs": [
        {
          "output_type": "stream",
          "name": "stdout",
          "text": [
            "5 öğenin yer aldığı bir kelime tahmin edin: bilgi\n",
            "Bravo! Oyunu kazandınız.\n"
          ]
        }
      ]
    },
    {
      "cell_type": "markdown",
      "source": [
        "**Soru 4:** 5 öğenin yer aldığı bir sözlük oluşturun. Bu sözlükte 5 kelime ve bu 5 kelimenin anlamları yer almalıdır. Klavyeden girilen anahtar (key) eğer sözlükte varsa kelimenin anlamı ekrana yazdırılmalıdır. Eğer anahtar sözlükte yoksa sözlükte aranan kelimenin olmadığı bilgisi ekrana yazdırılmalıdır."
      ],
      "metadata": {
        "id": "p49cZFjJcXoS"
      }
    },
    {
      "cell_type": "code",
      "execution_count": 20,
      "metadata": {
        "id": "3whYCDz3a8QZ",
        "colab": {
          "base_uri": "https://localhost:8080/"
        },
        "outputId": "a2c183a1-6deb-400a-bc5c-438bed62aab1"
      },
      "outputs": [
        {
          "output_type": "stream",
          "name": "stdout",
          "text": [
            "Kelimeyi giriniz: bilgi\n",
            "Sözlükte aradığınız kelime bulunamadı.\n"
          ]
        }
      ],
      "source": [
        "#Soru 4 bu bölümde kodlanmalıdır\n",
        "\n",
        "# Sözlük oluşturma\n",
        "sozluk = {\n",
        "    \"elma\": \"Yenen bir meyve\",\n",
        "    \"araba\": \"Taşıt aracı\",\n",
        "    \"kitap\": \"Okunan bir yazılı eser\",\n",
        "    \"bilgisayar\": \"Bilgi işlem yapmak için kullanılan cihaz\",\n",
        "    \"kalem\": \"Yazı yazmak için kullanılan araç\"\n",
        "}\n",
        "\n",
        "# Kullanıcıdan kelimeyi alma\n",
        "anahtar = input(\"Kelimeyi giriniz: \")\n",
        "\n",
        "# Anahtarın sözlükte olup olmadığını kontrol etme\n",
        "if anahtar in sozluk:\n",
        "    print(\"Kelimenin anlamı:\", sozluk[anahtar])\n",
        "else:\n",
        "    print(\"Sözlükte aradığınız kelime bulunamadı.\")\n",
        "\n"
      ]
    }
  ]
}