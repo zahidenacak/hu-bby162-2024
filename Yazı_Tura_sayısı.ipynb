{
  "nbformat": 4,
  "nbformat_minor": 0,
  "metadata": {
    "colab": {
      "provenance": [],
      "authorship_tag": "ABX9TyNkvKHp+RwKTsVQlGROZCaC",
      "include_colab_link": true
    },
    "kernelspec": {
      "name": "python3",
      "display_name": "Python 3"
    },
    "language_info": {
      "name": "python"
    }
  },
  "cells": [
    {
      "cell_type": "markdown",
      "metadata": {
        "id": "view-in-github",
        "colab_type": "text"
      },
      "source": [
        "<a href=\"https://colab.research.google.com/github/zahidenacak/hu-bby162-2024/blob/main/Yaz%C4%B1_Tura_say%C4%B1s%C4%B1.ipynb\" target=\"_parent\"><img src=\"https://colab.research.google.com/assets/colab-badge.svg\" alt=\"Open In Colab\"/></a>"
      ]
    },
    {
      "cell_type": "markdown",
      "source": [
        "Yazı Tura"
      ],
      "metadata": {
        "id": "dEU7hWVO-fJP"
      }
    },
    {
      "cell_type": "code",
      "execution_count": 11,
      "metadata": {
        "colab": {
          "base_uri": "https://localhost:8080/"
        },
        "id": "U1_CyllG-YDT",
        "outputId": "a7145406-361a-46e9-8f8d-8986b74759d2"
      },
      "outputs": [
        {
          "output_type": "stream",
          "name": "stdout",
          "text": [
            "The result is Tails\n"
          ]
        }
      ],
      "source": [
        "import random\n",
        "\n",
        "# Simulate a coin toss without user input\n",
        "def coin_toss():\n",
        "  return random.choice([\"Heads\", \"Tails\"])\n",
        "\n",
        "# Toss the coin and print the result\n",
        "result = coin_toss()\n",
        "print(f\"The result is {result}\")"
      ]
    },
    {
      "cell_type": "markdown",
      "source": [
        "Yazı-Tura sayısı"
      ],
      "metadata": {
        "id": "LNHP4agLBbY-"
      }
    },
    {
      "cell_type": "code",
      "source": [
        "import random\n",
        "\n",
        "# Initialize counters for heads and tails\n",
        "heads_count = 0\n",
        "tails_count = 0\n",
        "\n",
        "# Simulate a coin toss and update counters\n",
        "def coin_toss():\n",
        "  global heads_count, tails_count\n",
        "  result = random.choice([\"Heads\", \"Tails\"])\n",
        "  if result == \"Heads\":\n",
        "    heads_count += 1\n",
        "  else:\n",
        "    tails_count += 1\n",
        "  return result\n",
        "\n",
        "# Toss the coin 10 times\n",
        "for i in range(10):\n",
        "  result = coin_toss()\n",
        "  print(f\"Toss {i+1}: {result}\")\n",
        "\n",
        "# Print the final counts\n",
        "print(f\"\\nHeads: {heads_count}\")\n",
        "print(f\"Tails: {tails_count}\")"
      ],
      "metadata": {
        "colab": {
          "base_uri": "https://localhost:8080/"
        },
        "id": "IVYtxojKBtOW",
        "outputId": "b2032806-a7e8-4cac-baa1-ad603dc98c76"
      },
      "execution_count": 12,
      "outputs": [
        {
          "output_type": "stream",
          "name": "stdout",
          "text": [
            "Toss 1: Heads\n",
            "Toss 2: Heads\n",
            "Toss 3: Heads\n",
            "Toss 4: Tails\n",
            "Toss 5: Tails\n",
            "Toss 6: Tails\n",
            "Toss 7: Heads\n",
            "Toss 8: Heads\n",
            "Toss 9: Tails\n",
            "Toss 10: Tails\n",
            "\n",
            "Heads: 5\n",
            "Tails: 5\n"
          ]
        }
      ]
    }
  ]
}