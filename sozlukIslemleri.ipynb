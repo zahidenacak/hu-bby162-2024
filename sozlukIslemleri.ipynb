{
  "nbformat": 4,
  "nbformat_minor": 0,
  "metadata": {
    "colab": {
      "provenance": [],
      "authorship_tag": "ABX9TyMAVnG/XLBTOuwvmjRB6W62",
      "include_colab_link": true
    },
    "kernelspec": {
      "name": "python3",
      "display_name": "Python 3"
    },
    "language_info": {
      "name": "python"
    }
  },
  "cells": [
    {
      "cell_type": "markdown",
      "metadata": {
        "id": "view-in-github",
        "colab_type": "text"
      },
      "source": [
        "<a href=\"https://colab.research.google.com/github/zahidenacak/hu-bby162-2024/blob/main/sozlukIslemleri.ipynb\" target=\"_parent\"><img src=\"https://colab.research.google.com/assets/colab-badge.svg\" alt=\"Open In Colab\"/></a>"
      ]
    },
    {
      "cell_type": "code",
      "source": [
        "#Listenin oluşturulması / sıfırlanması\n",
        "alisverisListesi = {\"armut\": \"yarım kg\", \"elma\": \"bir kg\", \"çilek\": \"iki kg\", \"yeşil erik\": \"üç kg\", \"salatalık\": \"yarım kg\", \"domates\": \"on kg\", \"biber\": \"üç kg\", \"un\": \"beş kg\", \"şeker\": \"üç kg\", \"süt\": \"beş lt\", }"
      ],
      "metadata": {
        "id": "FvwBFzlviROD"
      },
      "execution_count": 1,
      "outputs": []
    },
    {
      "cell_type": "code",
      "source": [
        "#Listenin yazdırılması\n",
        "alisveris_Listesi = {\"armut\": \"yarım kg\", \"elma\": \"bir kg\", \"çilek\": \"iki kg\", \"yeşil erik\": \"üç kg\", \"salatalık\": \"yarım kg\", \"domates\": \"on kg\", \"biber\": \"üç kg\", \"un\": \"beş kg\", \"şeker\": \"üç kg\", \"süt\": \"beş lt\", }\n",
        "print(alisveris_Listesi)"
      ],
      "metadata": {
        "colab": {
          "base_uri": "https://localhost:8080/"
        },
        "id": "4XZZtaLPWA7t",
        "outputId": "36fe234c-e1fa-4555-cccb-2e79adf24ff0"
      },
      "execution_count": 2,
      "outputs": [
        {
          "output_type": "stream",
          "name": "stdout",
          "text": [
            "{'armut': 'yarım kg', 'elma': 'bir kg', 'çilek': 'iki kg', 'yeşil erik': 'üç kg', 'salatalık': 'yarım kg', 'domates': 'on kg', 'biber': 'üç kg', 'un': 'beş kg', 'şeker': 'üç kg', 'süt': 'beş lt'}\n"
          ]
        }
      ]
    },
    {
      "cell_type": "code",
      "source": [
        "def ekle_yeni_urun():\n",
        "  yeni_urun = input(\"Yeni ürünün adını girin: \")\n",
        "  yeni_miktar = input(\"Yeni ürünün miktarını girin: \")\n",
        "  alisveris_listesi[yeni_urun] = yeni_miktar\n",
        "  print(alisveris_listesi)\n",
        "\n",
        "# Sözlüğü başlat\n",
        "alisveris_listesi = {\"armut\": \"yarım kg\", \"elma\": \"bir kg\", \"çilek\": \"iki kg\", \"yeşil erik\": \"üç kg\", \"salatalık\": \"yarım kg\", \"domates\": \"on kg\", \"biber\": \"üç kg\", \"un\": \"beş kg\", \"şeker\": \"üç kg\", \"süt\": \"beş lt\",}\n",
        "\n",
        "# Yeni ürün ekle\n",
        "ekle_yeni_urun()"
      ],
      "metadata": {
        "id": "fkN9mnTTWe-Z",
        "colab": {
          "base_uri": "https://localhost:8080/"
        },
        "outputId": "39873936-fd4a-424f-a355-db46528b07d6"
      },
      "execution_count": 3,
      "outputs": [
        {
          "output_type": "stream",
          "name": "stdout",
          "text": [
            "Yeni ürünün adını girin: havuç\n",
            "Yeni ürünün miktarını girin: bir kg\n",
            "{'armut': 'yarım kg', 'elma': 'bir kg', 'çilek': 'iki kg', 'yeşil erik': 'üç kg', 'salatalık': 'yarım kg', 'domates': 'on kg', 'biber': 'üç kg', 'un': 'beş kg', 'şeker': 'üç kg', 'süt': 'beş lt', 'havuç': 'bir kg'}\n"
          ]
        }
      ]
    },
    {
      "cell_type": "code",
      "source": [
        "def anahtara_gore_eleman_sil():\n",
        "    \"\"\"\n",
        "    Kullanıcının girdiği anahtar ile sözlükten eleman siler.\n",
        "    \"\"\"\n",
        "\n",
        "    # Kullanıcıdan silinecek anahtar bilgisini alın\n",
        "    silinecek_anahtar = input(\"Silinecek anahtarı girin: \")\n",
        "\n",
        "    # Anahtarın sözlükte olup olmadığını kontrol edin\n",
        "    if silinecek_anahtar in alisveris_listesi:\n",
        "        # Anahtar-değer çiftini sözlükten silin\n",
        "        del alisveris_listesi[silinecek_anahtar]\n",
        "\n",
        "        # Kullanıcıya mesaj yazdırın\n",
        "        print(f\"'{silinecek_anahtar}' anahtarı sözlükten silindi.\")\n",
        "    else:\n",
        "        # Anahtar yoksa hata mesajı yazdırın\n",
        "        print(f\"'{silinecek_anahtar}' anahtarı sözlükte bulunmuyor.\")\n",
        "\n",
        "\n",
        "# Fonksiyonu çağırın\n",
        "anahtara_gore_eleman_sil()"
      ],
      "metadata": {
        "colab": {
          "base_uri": "https://localhost:8080/"
        },
        "id": "h-k2d71a6Hr_",
        "outputId": "6b7eaf60-10f8-4c01-acc2-264c42bc9ca8"
      },
      "execution_count": 4,
      "outputs": [
        {
          "output_type": "stream",
          "name": "stdout",
          "text": [
            "Silinecek anahtarı girin: havuç\n",
            "'havuç' anahtarı sözlükten silindi.\n"
          ]
        }
      ]
    },
    {
      "cell_type": "code",
      "source": [
        "#Sözlükteki öğeyi güncelleme\n",
        "alisveris_Listesi[\"armut\"] = \"bir kg\"\n",
        "print(alisveris_Listesi)"
      ],
      "metadata": {
        "colab": {
          "base_uri": "https://localhost:8080/"
        },
        "id": "wvdUBd7BHkK1",
        "outputId": "73aa2173-cdc7-4bef-9e46-81fe4825f679"
      },
      "execution_count": 5,
      "outputs": [
        {
          "output_type": "stream",
          "name": "stdout",
          "text": [
            "{'armut': 'bir kg', 'elma': 'bir kg', 'çilek': 'iki kg', 'yeşil erik': 'üç kg', 'salatalık': 'yarım kg', 'domates': 'on kg', 'biber': 'üç kg', 'un': 'beş kg', 'şeker': 'üç kg', 'süt': 'beş lt'}\n"
          ]
        }
      ]
    },
    {
      "cell_type": "code",
      "source": [
        "# Kullanıcıdan anahtar kelime girdisi alın.\n",
        "anahtar = input(\"Lütfen bir anahtar kelime girin: \")\n",
        "\n",
        "# Anahtar kelimeyi sözlükte arayın.\n",
        "if anahtar in alisverisListesi:\n",
        "    # Eğer anahtar kelime sözlükte varsa, değerini yazdırın.\n",
        "    print(f\"{anahtar}: {alisverisListesi[anahtar]}\")\n",
        "else:\n",
        "    # Eğer anahtar kelime sözlükte yoksa, bulunamadığını yazdırın.\n",
        "    print(f\"{anahtar} sözlükte bulunamadı.\")"
      ],
      "metadata": {
        "colab": {
          "base_uri": "https://localhost:8080/"
        },
        "id": "42_YR2DNJ-x0",
        "outputId": "63b44bc9-8df7-4166-fa9c-af03cebe3de5"
      },
      "execution_count": 7,
      "outputs": [
        {
          "output_type": "stream",
          "name": "stdout",
          "text": [
            "Lütfen bir anahtar kelime girin: havuç\n",
            "havuç sözlükte bulunamadı.\n"
          ]
        }
      ]
    }
  ]
}