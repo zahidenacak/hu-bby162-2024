{
  "nbformat": 4,
  "nbformat_minor": 0,
  "metadata": {
    "colab": {
      "provenance": [],
      "authorship_tag": "ABX9TyNqx/qZSdGzo16LQ1dced+W",
      "include_colab_link": true
    },
    "kernelspec": {
      "name": "python3",
      "display_name": "Python 3"
    },
    "language_info": {
      "name": "python"
    }
  },
  "cells": [
    {
      "cell_type": "markdown",
      "metadata": {
        "id": "view-in-github",
        "colab_type": "text"
      },
      "source": [
        "<a href=\"https://colab.research.google.com/github/zahidenacak/hu-bby162-2024/blob/main/Yaz%C4%B1_Tura_adl%C4%B1_not_defterinin_kopyas%C4%B1.ipynb\" target=\"_parent\"><img src=\"https://colab.research.google.com/assets/colab-badge.svg\" alt=\"Open In Colab\"/></a>"
      ]
    },
    {
      "cell_type": "markdown",
      "source": [
        "Yazı Tura"
      ],
      "metadata": {
        "id": "dEU7hWVO-fJP"
      }
    },
    {
      "cell_type": "code",
      "execution_count": null,
      "metadata": {
        "colab": {
          "base_uri": "https://localhost:8080/"
        },
        "id": "U1_CyllG-YDT",
        "outputId": "a7145406-361a-46e9-8f8d-8986b74759d2"
      },
      "outputs": [
        {
          "output_type": "stream",
          "name": "stdout",
          "text": [
            "The result is Tails\n"
          ]
        }
      ],
      "source": [
        "import random\n",
        "\n",
        "# Simulate a coin toss without user input\n",
        "def coin_toss():\n",
        "  return random.choice([\"Heads\", \"Tails\"])\n",
        "\n",
        "# Toss the coin and print the result\n",
        "result = coin_toss()\n",
        "print(f\"The result is {result}\")"
      ]
    }
  ]
}