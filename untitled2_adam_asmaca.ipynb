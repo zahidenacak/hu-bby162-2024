{
  "nbformat": 4,
  "nbformat_minor": 0,
  "metadata": {
    "colab": {
      "provenance": [],
      "authorship_tag": "ABX9TyP5a+TdtGSISkI+63YddM1U",
      "include_colab_link": true
    },
    "kernelspec": {
      "name": "python3",
      "display_name": "Python 3"
    },
    "language_info": {
      "name": "python"
    }
  },
  "cells": [
    {
      "cell_type": "markdown",
      "metadata": {
        "id": "view-in-github",
        "colab_type": "text"
      },
      "source": [
        "<a href=\"https://colab.research.google.com/github/zahidenacak/hu-bby162-2024/blob/main/untitled2_adam_asmaca.ipynb\" target=\"_parent\"><img src=\"https://colab.research.google.com/assets/colab-badge.svg\" alt=\"Open In Colab\"/></a>"
      ]
    },
    {
      "cell_type": "code",
      "execution_count": null,
      "metadata": {
        "id": "9z5K_BXWj4RQ"
      },
      "outputs": [],
      "source": [
        "import random\n",
        "\n",
        "def adam_asmaca():\n",
        "    def kelime_sec():\n",
        "        kelimeler = {\n",
        "            'kolay': [\"elma\", \"masa\", \"araba\"],\n",
        "            'orta': [\"bisiklet\", \"triatlon\", \"uçak\"],\n",
        "            'zor': [\"mühendis\", \"üniversite\", \"komisyon\"]\n",
        "        }\n",
        "        seviye = \"\"\n",
        "        while seviye not in kelimeler:\n",
        "            seviye = input(\"Zorluk seviyesini seçiniz (kolay, orta, zor): \").lower()\n",
        "        secilen_kelime = random.choice(kelimeler[seviye])\n",
        "        can_hakki = {'kolay': 7, 'orta': 5, 'zor': 3}[seviye]\n",
        "        return secilen_kelime, can_hakki\n",
        "\n",
        "    def kelime_diz(secim):\n",
        "        return ['_' for _ in secim]\n",
        "\n",
        "    def oyunu_oyna(secilen_kelime, can_hakki):\n",
        "        dizilen_kelime = kelime_diz(secilen_kelime)\n",
        "        kullanilan_harfler = []\n",
        "\n",
        "        while can_hakki > 0 and '_' in dizilen_kelime:\n",
        "            print(\" \".join(dizilen_kelime))\n",
        "            print(f\"Kalan can: {can_hakki}\")\n",
        "            print(f\"Kullanılan harfler: {', '.join(kullanilan_harfler)}\")\n",
        "\n",
        "            girilen_harf = input(\"Bir harf giriniz: \").lower()\n",
        "\n",
        "            if girilen_harf in kullanilan_harfler:\n",
        "                print(\"Bu harfi zaten kullandınız. Başka bir harf deneyiniz.\")\n",
        "                continue\n",
        "\n",
        "            kullanilan_harfler.append(girilen_harf)\n",
        "\n",
        "            if girilen_harf in secilen_kelime:\n",
        "                for i, harf in enumerate(secilen_kelime):\n",
        "                    if harf == girilen_harf:\n",
        "                        dizilen_kelime[i] = girilen_harf\n",
        "            else:\n",
        "                can_hakki -= 1\n",
        "\n",
        "        if '_' not in dizilen_kelime:\n",
        "            print(\"Tebrikler! Kelimeyi doğru tahmin ettiniz:\", secilen_kelime)\n",
        "        else:\n",
        "            print(\"Maalesef kaybettiniz. Doğru kelime:\", secilen_kelime)\n",
        "\n",
        "    def yeniden_oyna():\n",
        "        while True:\n",
        "            tekrar = input(\"Yeniden oynamak ister misiniz? (evet/hayır): \").lower()\n",
        "            if tekrar in [\"evet\", \"hayır\"]:\n",
        "                return tekrar == \"evet\"\n",
        "\n",
        "    while True:\n",
        "        secilen_kelime, can_hakki = kelime_sec()\n",
        "        oyunu_oyna(secilen_kelime, can_hakki)\n",
        "        if not yeniden_oyna():\n",
        "            print(\"Oyundan çıkılıyor...\")\n",
        "            break\n",
        "\n",
        "adam_asmaca()\n"
      ]
    }
  ]
}